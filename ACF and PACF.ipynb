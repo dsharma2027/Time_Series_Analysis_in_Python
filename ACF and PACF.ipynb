{
 "cells": [
  {
   "cell_type": "markdown",
   "metadata": {},
   "source": [
    "## Auto Correlation Function (ACF)"
   ]
  },
  {
   "cell_type": "markdown",
   "metadata": {},
   "source": [
    "- <font color = blue> <b> An ACF shows the correlation of the series with itself, lagged by x time units, that Includes direct or indirect dependence information.\n",
    "- <font color = blue> USe to determine the term use in MA model"
   ]
  },
  {
   "cell_type": "markdown",
   "metadata": {},
   "source": [
    "## Partial Auto Correaltion Function (PACF)"
   ]
  },
  {
   "cell_type": "markdown",
   "metadata": {},
   "source": [
    "- <font color = blue> <b> coorelation of the series with itself lagged by x timer units after removing effect of intervening variables, that only includes drirect dependence information.\n",
    "- <font color = blue> <b> Use to determine the term used in AR model."
   ]
  },
  {
   "cell_type": "code",
   "execution_count": null,
   "metadata": {},
   "outputs": [],
   "source": []
  },
  {
   "cell_type": "code",
   "execution_count": null,
   "metadata": {},
   "outputs": [],
   "source": []
  },
  {
   "cell_type": "code",
   "execution_count": 1,
   "metadata": {},
   "outputs": [],
   "source": [
    "import  numpy as np\n",
    "import pandas as pd\n",
    "import statsmodels.api as sm\n",
    "import matplotlib.pyplot as plt"
   ]
  },
  {
   "cell_type": "code",
   "execution_count": 2,
   "metadata": {},
   "outputs": [],
   "source": [
    "from statsmodels.tsa.stattools import acovf, acf, pacf, pacf_yw, pacf_ols"
   ]
  },
  {
   "cell_type": "code",
   "execution_count": 3,
   "metadata": {},
   "outputs": [],
   "source": [
    "# Loading the non stationary Data\n",
    "\n",
    "airline = pd.read_csv(\"Data/airline_passengers.csv\", index_col='Month', parse_dates=True)\n",
    "airline.index.freq = 'MS'"
   ]
  },
  {
   "cell_type": "code",
   "execution_count": 4,
   "metadata": {},
   "outputs": [],
   "source": [
    "# Stationary Data\n",
    "\n",
    "Fem_birth = pd.read_csv(\"Data/DailyTotalFemaleBirths.csv\", index_col='Date', parse_dates=True)\n",
    "Fem_birth.index.freq = 'D'"
   ]
  },
  {
   "cell_type": "code",
   "execution_count": 6,
   "metadata": {},
   "outputs": [
    {
     "data": {
      "text/html": [
       "<div>\n",
       "<style scoped>\n",
       "    .dataframe tbody tr th:only-of-type {\n",
       "        vertical-align: middle;\n",
       "    }\n",
       "\n",
       "    .dataframe tbody tr th {\n",
       "        vertical-align: top;\n",
       "    }\n",
       "\n",
       "    .dataframe thead th {\n",
       "        text-align: right;\n",
       "    }\n",
       "</style>\n",
       "<table border=\"1\" class=\"dataframe\">\n",
       "  <thead>\n",
       "    <tr style=\"text-align: right;\">\n",
       "      <th></th>\n",
       "      <th>Thousands of Passengers</th>\n",
       "    </tr>\n",
       "    <tr>\n",
       "      <th>Month</th>\n",
       "      <th></th>\n",
       "    </tr>\n",
       "  </thead>\n",
       "  <tbody>\n",
       "    <tr>\n",
       "      <th>1949-01-01</th>\n",
       "      <td>112</td>\n",
       "    </tr>\n",
       "    <tr>\n",
       "      <th>1949-02-01</th>\n",
       "      <td>118</td>\n",
       "    </tr>\n",
       "    <tr>\n",
       "      <th>1949-03-01</th>\n",
       "      <td>132</td>\n",
       "    </tr>\n",
       "    <tr>\n",
       "      <th>1949-04-01</th>\n",
       "      <td>129</td>\n",
       "    </tr>\n",
       "    <tr>\n",
       "      <th>1949-05-01</th>\n",
       "      <td>121</td>\n",
       "    </tr>\n",
       "  </tbody>\n",
       "</table>\n",
       "</div>"
      ],
      "text/plain": [
       "            Thousands of Passengers\n",
       "Month                              \n",
       "1949-01-01                      112\n",
       "1949-02-01                      118\n",
       "1949-03-01                      132\n",
       "1949-04-01                      129\n",
       "1949-05-01                      121"
      ]
     },
     "execution_count": 6,
     "metadata": {},
     "output_type": "execute_result"
    }
   ],
   "source": [
    "airline.head()"
   ]
  },
  {
   "cell_type": "code",
   "execution_count": 7,
   "metadata": {},
   "outputs": [
    {
     "data": {
      "text/html": [
       "<div>\n",
       "<style scoped>\n",
       "    .dataframe tbody tr th:only-of-type {\n",
       "        vertical-align: middle;\n",
       "    }\n",
       "\n",
       "    .dataframe tbody tr th {\n",
       "        vertical-align: top;\n",
       "    }\n",
       "\n",
       "    .dataframe thead th {\n",
       "        text-align: right;\n",
       "    }\n",
       "</style>\n",
       "<table border=\"1\" class=\"dataframe\">\n",
       "  <thead>\n",
       "    <tr style=\"text-align: right;\">\n",
       "      <th></th>\n",
       "      <th>Births</th>\n",
       "    </tr>\n",
       "    <tr>\n",
       "      <th>Date</th>\n",
       "      <th></th>\n",
       "    </tr>\n",
       "  </thead>\n",
       "  <tbody>\n",
       "    <tr>\n",
       "      <th>1959-01-01</th>\n",
       "      <td>35</td>\n",
       "    </tr>\n",
       "    <tr>\n",
       "      <th>1959-01-02</th>\n",
       "      <td>32</td>\n",
       "    </tr>\n",
       "    <tr>\n",
       "      <th>1959-01-03</th>\n",
       "      <td>30</td>\n",
       "    </tr>\n",
       "    <tr>\n",
       "      <th>1959-01-04</th>\n",
       "      <td>31</td>\n",
       "    </tr>\n",
       "    <tr>\n",
       "      <th>1959-01-05</th>\n",
       "      <td>44</td>\n",
       "    </tr>\n",
       "  </tbody>\n",
       "</table>\n",
       "</div>"
      ],
      "text/plain": [
       "            Births\n",
       "Date              \n",
       "1959-01-01      35\n",
       "1959-01-02      32\n",
       "1959-01-03      30\n",
       "1959-01-04      31\n",
       "1959-01-05      44"
      ]
     },
     "execution_count": 7,
     "metadata": {},
     "output_type": "execute_result"
    }
   ],
   "source": [
    "Fem_birth.head()"
   ]
  },
  {
   "cell_type": "code",
   "execution_count": 8,
   "metadata": {},
   "outputs": [],
   "source": [
    "# Below lib will not show any warning going forward\n",
    "\n",
    "import warnings\n",
    "warnings.filterwarnings(\"ignore\")"
   ]
  },
  {
   "cell_type": "code",
   "execution_count": 9,
   "metadata": {},
   "outputs": [
    {
     "data": {
      "text/plain": [
       "(144, 1)"
      ]
     },
     "execution_count": 9,
     "metadata": {},
     "output_type": "execute_result"
    }
   ],
   "source": [
    "airline.shape"
   ]
  },
  {
   "cell_type": "markdown",
   "metadata": {},
   "source": [
    "### ACF"
   ]
  },
  {
   "cell_type": "code",
   "execution_count": 10,
   "metadata": {},
   "outputs": [
    {
     "data": {
      "text/plain": [
       "array([1.        , 0.94804734, 0.87557484, 0.80668116, 0.75262542,\n",
       "       0.71376997, 0.6817336 , 0.66290439, 0.65561048, 0.67094833,\n",
       "       0.70271992, 0.74324019, 0.76039504, 0.71266087, 0.64634228,\n",
       "       0.58592342, 0.53795519, 0.49974753, 0.46873401, 0.44987066,\n",
       "       0.4416288 , 0.45722376, 0.48248203, 0.51712699, 0.53218983,\n",
       "       0.49397569, 0.43772134, 0.3876029 , 0.34802503, 0.31498388,\n",
       "       0.28849682, 0.27080187, 0.26429011, 0.27679934, 0.2985215 ,\n",
       "       0.32558712, 0.3370236 , 0.30333486, 0.25397708, 0.21065534,\n",
       "       0.17217092])"
      ]
     },
     "execution_count": 10,
     "metadata": {},
     "output_type": "execute_result"
    }
   ],
   "source": [
    "# ACF using Stats Model\n",
    "\n",
    "acf(airline['Thousands of Passengers'])   # Default lags is 40"
   ]
  },
  {
   "cell_type": "code",
   "execution_count": 11,
   "metadata": {},
   "outputs": [
    {
     "data": {
      "text/plain": [
       "array([ 1.        ,  0.21724118,  0.15287758,  0.10821254,  0.09066059,\n",
       "        0.09595481,  0.09104012,  0.19508071,  0.14115295,  0.06117859,\n",
       "        0.04781522,  0.04770662, -0.01964707,  0.02287422,  0.08112657,\n",
       "        0.11185686,  0.07333732,  0.01501845,  0.07270333,  0.06859   ,\n",
       "        0.09280107,  0.26386846,  0.14012147,  0.06070286,  0.08716232,\n",
       "        0.05038825,  0.0650489 ,  0.11466565,  0.1552232 ,  0.12850638,\n",
       "        0.10358981,  0.09734643,  0.04912286,  0.04022798,  0.05838555,\n",
       "        0.05359812,  0.10151053,  0.08268663,  0.0912185 ,  0.11192192,\n",
       "        0.05652846])"
      ]
     },
     "execution_count": 11,
     "metadata": {},
     "output_type": "execute_result"
    }
   ],
   "source": [
    "acf(Fem_birth[\"Births\"])"
   ]
  },
  {
   "cell_type": "code",
   "execution_count": null,
   "metadata": {},
   "outputs": [],
   "source": []
  },
  {
   "cell_type": "markdown",
   "metadata": {},
   "source": [
    "### PACF"
   ]
  },
  {
   "cell_type": "code",
   "execution_count": 12,
   "metadata": {},
   "outputs": [
    {
     "data": {
      "text/plain": [
       "array([ 1.        ,  0.94804734, -0.22942187,  0.03814778,  0.09378544,\n",
       "        0.0736067 ,  0.0077276 ,  0.12559713,  0.08995134,  0.23248854,\n",
       "        0.16605126,  0.17127442, -0.1354311 , -0.53969124, -0.02661014,\n",
       "        0.09076498,  0.02495556,  0.03251557,  0.07343264,  0.04844211,\n",
       "       -0.04554168,  0.04575294, -0.10017888,  0.05243494,  0.04801413,\n",
       "       -0.16274616, -0.03613503,  0.06642377,  0.00617612,  0.00753714,\n",
       "        0.01935049, -0.01025146, -0.01831018, -0.02900136, -0.01480497,\n",
       "       -0.0477246 ,  0.04620366, -0.0666976 , -0.00229644,  0.0160981 ,\n",
       "       -0.08833969])"
      ]
     },
     "execution_count": 12,
     "metadata": {},
     "output_type": "execute_result"
    }
   ],
   "source": [
    "# Using Yule-walker formula\n",
    "\n",
    "pacf_yw(airline['Thousands of Passengers'], method= 'mle',)"
   ]
  },
  {
   "cell_type": "code",
   "execution_count": 18,
   "metadata": {},
   "outputs": [
    {
     "data": {
      "text/plain": [
       "array([ 1.        ,  0.21724118,  0.11091851,  0.05800643,  0.04543103,\n",
       "        0.05504982,  0.04617438,  0.15648712,  0.05939139, -0.02509098,\n",
       "       -0.00890434,  0.00618762, -0.06821152,  0.00494821,  0.05147711,\n",
       "        0.06574724,  0.02287367, -0.02919993,  0.05161131,  0.05139698,\n",
       "        0.0633241 ,  0.22244509,  0.01256544, -0.05614002,  0.0324189 ,\n",
       "       -0.02083772, -0.00113261,  0.07414523,  0.04841523,  0.00484985,\n",
       "        0.03987566,  0.03980956, -0.01241855,  0.02299   ,  0.01444347,\n",
       "       -0.0390127 ,  0.02148661,  0.0136852 ,  0.04949612,  0.06401633,\n",
       "       -0.00526597])"
      ]
     },
     "execution_count": 18,
     "metadata": {},
     "output_type": "execute_result"
    }
   ],
   "source": [
    "pacf_yw(Fem_birth['Births'], nlags=40, method='mle')"
   ]
  },
  {
   "cell_type": "code",
   "execution_count": null,
   "metadata": {},
   "outputs": [],
   "source": []
  },
  {
   "cell_type": "code",
   "execution_count": 14,
   "metadata": {},
   "outputs": [
    {
     "data": {
      "text/plain": [
       "array([ 1.        ,  0.95893198, -0.32983096,  0.2018249 ,  0.14500798,\n",
       "        0.25848232, -0.02690283,  0.20433019,  0.15607896,  0.56860841,\n",
       "        0.29256358,  0.8402143 ,  0.61268285, -0.66597616, -0.38463943,\n",
       "        0.0787466 , -0.02663483, -0.05805221, -0.04350748,  0.27732556,\n",
       "       -0.04046447,  0.13739883,  0.3859958 ,  0.24203808, -0.04912986,\n",
       "       -0.19599778, -0.15443575,  0.04484465,  0.18371541, -0.0906113 ,\n",
       "       -0.06202938,  0.34827092,  0.09899499, -0.08396793,  0.36328898,\n",
       "       -0.17956662,  0.15839435,  0.06376775, -0.27503705,  0.2707607 ,\n",
       "        0.32002003])"
      ]
     },
     "execution_count": 14,
     "metadata": {},
     "output_type": "execute_result"
    }
   ],
   "source": [
    "# Using OLS Method\n",
    "\n",
    "pacf_ols(airline['Thousands of Passengers'])"
   ]
  },
  {
   "cell_type": "code",
   "execution_count": 15,
   "metadata": {},
   "outputs": [
    {
     "data": {
      "text/plain": [
       "array([ 1.        ,  0.2179641 ,  0.11388341,  0.06139271,  0.05014092,\n",
       "        0.05597304,  0.0483302 ,  0.16061715,  0.061602  , -0.0245556 ,\n",
       "       -0.00774957,  0.00782231, -0.07054357,  0.00367697,  0.05073901,\n",
       "        0.06869818,  0.02855912, -0.03000743,  0.04890835,  0.05079005,\n",
       "        0.06672663,  0.23464568,  0.01251561, -0.05701977,  0.03051524,\n",
       "       -0.03035958, -0.00790227,  0.08244362,  0.05410409,  0.00122559,\n",
       "        0.04213413,  0.03829265, -0.0147851 ,  0.02911748,  0.01617994,\n",
       "       -0.03759518,  0.03129664,  0.01440593,  0.05191662,  0.07161683,\n",
       "       -0.00544217])"
      ]
     },
     "execution_count": 15,
     "metadata": {},
     "output_type": "execute_result"
    }
   ],
   "source": [
    "pacf_ols(Fem_birth[\"Births\"])"
   ]
  },
  {
   "cell_type": "code",
   "execution_count": null,
   "metadata": {},
   "outputs": [],
   "source": []
  },
  {
   "cell_type": "markdown",
   "metadata": {},
   "source": [
    "### Plotting ACF and PACF"
   ]
  },
  {
   "cell_type": "code",
   "execution_count": 23,
   "metadata": {},
   "outputs": [],
   "source": [
    "from pandas.plotting import lag_plot"
   ]
  },
  {
   "cell_type": "code",
   "execution_count": 25,
   "metadata": {},
   "outputs": [],
   "source": [
    "#help(lag_plot)"
   ]
  },
  {
   "cell_type": "code",
   "execution_count": 22,
   "metadata": {},
   "outputs": [
    {
     "data": {
      "image/png": "[encoded data removed]",
      "text/plain": [
       "<Figure size 432x288 with 1 Axes>"
      ]
     },
     "metadata": {
      "needs_background": "light"
     },
     "output_type": "display_data"
    }
   ],
   "source": [
    "# Plotting the non stationary Data\n",
    "\n",
    "lag_plot(airline[\"Thousands of Passengers\"]);"
   ]
  },
  {
   "cell_type": "code",
   "execution_count": 21,
   "metadata": {},
   "outputs": [
    {
     "data": {
      "text/plain": [
       "<AxesSubplot:xlabel='y(t)', ylabel='y(t + 1)'>"
      ]
     },
     "execution_count": 21,
     "metadata": {},
     "output_type": "execute_result"
    },
    {
     "data": {
      "image/png": "[encoded data removed]",
      "text/plain": [
       "<Figure size 432x288 with 1 Axes>"
      ]
     },
     "metadata": {
      "needs_background": "light"
     },
     "output_type": "display_data"
    }
   ],
   "source": [
    "# Plotting the Stationary Data\n",
    "\n",
    "lag_plot(Fem_birth[\"Births\"])"
   ]
  },
  {
   "cell_type": "code",
   "execution_count": null,
   "metadata": {},
   "outputs": [],
   "source": []
  },
  {
   "cell_type": "code",
   "execution_count": 26,
   "metadata": {},
   "outputs": [],
   "source": [
    "from statsmodels.graphics.tsaplots import plot_acf, plot_pacf"
   ]
  },
  {
   "cell_type": "code",
   "execution_count": 27,
   "metadata": {},
   "outputs": [
    {
     "data": {
      "image/png": "[encoded data removed]",
      "text/plain": [
       "<Figure size 432x288 with 1 Axes>"
      ]
     },
     "metadata": {
      "needs_background": "light"
     },
     "output_type": "display_data"
    }
   ],
   "source": [
    "# Plotting ACF plot for Non Stationary Data\n",
    "\n",
    "\n",
    "plot_acf(airline, lags=40,);"
   ]
  },
  {
   "cell_type": "markdown",
   "metadata": {},
   "source": [
    "<font color = green> <b> Shaded region represent the 95% Confidence Interval. It suggest that the correlation value outside the Shaded Region are highly likely to be the correlation.\n",
    "       The shaded Region become larger as you lags increases."
   ]
  },
  {
   "cell_type": "code",
   "execution_count": null,
   "metadata": {},
   "outputs": [],
   "source": []
  },
  {
   "cell_type": "code",
   "execution_count": 28,
   "metadata": {},
   "outputs": [
    {
     "data": {
      "image/png": "[encoded data removed]",
      "text/plain": [
       "<Figure size 432x288 with 1 Axes>"
      ]
     },
     "metadata": {
      "needs_background": "light"
     },
     "output_type": "display_data"
    }
   ],
   "source": [
    "# ACF on the Stationary Data\n",
    "\n",
    "plot_acf(Fem_birth, lags=40);"
   ]
  },
  {
   "cell_type": "code",
   "execution_count": null,
   "metadata": {},
   "outputs": [],
   "source": []
  },
  {
   "cell_type": "code",
   "execution_count": 40,
   "metadata": {},
   "outputs": [
    {
     "data": {
      "image/png": "[encoded data removed]",
      "text/plain": [
       "<Figure size 432x288 with 1 Axes>"
      ]
     },
     "metadata": {
      "needs_background": "light"
     },
     "output_type": "display_data"
    }
   ],
   "source": [
    "#Ploting PACF\n",
    "\n",
    "plot_pacf(Fem_birth, lags=40, title=\"Daily Female Birth\");"
   ]
  },
  {
   "cell_type": "code",
   "execution_count": null,
   "metadata": {},
   "outputs": [],
   "source": []
  }
 ],
 "metadata": {
  "kernelspec": {
   "display_name": "Python 3",
   "language": "python",
   "name": "python3"
  },
  "language_info": {
   "codemirror_mode": {
    "name": "ipython",
    "version": 3
   },
   "file_extension": ".py",
   "mimetype": "text/x-python",
   "name": "python",
   "nbconvert_exporter": "python",
   "pygments_lexer": "ipython3",
   "version": "3.8.3"
  }
 },
 "nbformat": 4,
 "nbformat_minor": 4
}
